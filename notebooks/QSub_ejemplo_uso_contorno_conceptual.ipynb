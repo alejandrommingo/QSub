{
  "nbformat": 4,
  "nbformat_minor": 0,
  "metadata": {
    "colab": {
      "provenance": []
    },
    "kernelspec": {
      "name": "python3",
      "display_name": "Python 3"
    },
    "language_info": {
      "name": "python"
    }
  },
  "cells": [
    {
      "cell_type": "markdown",
      "source": [
        "# Ejemplo de Uso de la librería QSub (Quantum Subspaces).\n",
        "## Como crear un contorno conceptual\n",
        "\n",
        "Este es el primer ejemplo de uso de la librería `QSub`. En este primer notebook veremos como definir un *contorno conceptual* a partir de un espacio semántico LSA.\n",
        "\n",
        "## Importar `QSub` e instalar las dependencias\n",
        "\n",
        "En primer lugar debemos importar la librería e instalar sus dependencias:"
      ],
      "metadata": {
        "id": "HQmDHtGZc9uG"
      }
    },
    {
      "cell_type": "code",
      "source": [
        "!git clone https://github.com/alejandrommingo/QSub.git"
      ],
      "metadata": {
        "colab": {
          "base_uri": "https://localhost:8080/"
        },
        "id": "6SjPvrbRdbJ1",
        "outputId": "56f18f92-a661-4d38-98a3-025a0f1851e9"
      },
      "execution_count": 1,
      "outputs": [
        {
          "output_type": "stream",
          "name": "stdout",
          "text": [
            "Cloning into 'QSub'...\n",
            "remote: Enumerating objects: 118, done.\u001b[K\n",
            "remote: Counting objects: 100% (118/118), done.\u001b[K\n",
            "remote: Compressing objects: 100% (83/83), done.\u001b[K\n",
            "remote: Total 118 (delta 54), reused 87 (delta 30), pack-reused 0\u001b[K\n",
            "Receiving objects: 100% (118/118), 929.69 KiB | 10.81 MiB/s, done.\n",
            "Resolving deltas: 100% (54/54), done.\n"
          ]
        }
      ]
    },
    {
      "cell_type": "code",
      "source": [
        "%cd QSub\n",
        "!pip install ."
      ],
      "metadata": {
        "colab": {
          "base_uri": "https://localhost:8080/"
        },
        "id": "Nu3Nd_AddcR3",
        "outputId": "3655b02f-6270-4835-b416-13b1f7c28bc3"
      },
      "execution_count": 2,
      "outputs": [
        {
          "output_type": "stream",
          "name": "stdout",
          "text": [
            "/content/QSub\n",
            "Processing /content/QSub\n",
            "  Preparing metadata (setup.py) ... \u001b[?25l\u001b[?25hdone\n",
            "Requirement already satisfied: numpy in /usr/local/lib/python3.10/dist-packages (from QSub==0.1) (1.23.5)\n",
            "Requirement already satisfied: pandas in /usr/local/lib/python3.10/dist-packages (from QSub==0.1) (1.5.3)\n",
            "Requirement already satisfied: requests in /usr/local/lib/python3.10/dist-packages (from QSub==0.1) (2.31.0)\n",
            "Requirement already satisfied: matplotlib in /usr/local/lib/python3.10/dist-packages (from QSub==0.1) (3.7.1)\n",
            "Collecting fuzzywuzzy (from QSub==0.1)\n",
            "  Downloading fuzzywuzzy-0.18.0-py2.py3-none-any.whl (18 kB)\n",
            "Requirement already satisfied: transformers in /usr/local/lib/python3.10/dist-packages (from QSub==0.1) (4.35.2)\n",
            "Requirement already satisfied: gensim in /usr/local/lib/python3.10/dist-packages (from QSub==0.1) (4.3.2)\n",
            "Requirement already satisfied: pytest in /usr/local/lib/python3.10/dist-packages (from QSub==0.1) (7.4.3)\n",
            "Requirement already satisfied: tqdm in /usr/local/lib/python3.10/dist-packages (from QSub==0.1) (4.66.1)\n",
            "Collecting python-Levenshtein (from QSub==0.1)\n",
            "  Downloading python_Levenshtein-0.23.0-py3-none-any.whl (9.4 kB)\n",
            "Requirement already satisfied: scipy>=1.7.0 in /usr/local/lib/python3.10/dist-packages (from gensim->QSub==0.1) (1.11.3)\n",
            "Requirement already satisfied: smart-open>=1.8.1 in /usr/local/lib/python3.10/dist-packages (from gensim->QSub==0.1) (6.4.0)\n",
            "Requirement already satisfied: contourpy>=1.0.1 in /usr/local/lib/python3.10/dist-packages (from matplotlib->QSub==0.1) (1.2.0)\n",
            "Requirement already satisfied: cycler>=0.10 in /usr/local/lib/python3.10/dist-packages (from matplotlib->QSub==0.1) (0.12.1)\n",
            "Requirement already satisfied: fonttools>=4.22.0 in /usr/local/lib/python3.10/dist-packages (from matplotlib->QSub==0.1) (4.44.3)\n",
            "Requirement already satisfied: kiwisolver>=1.0.1 in /usr/local/lib/python3.10/dist-packages (from matplotlib->QSub==0.1) (1.4.5)\n",
            "Requirement already satisfied: packaging>=20.0 in /usr/local/lib/python3.10/dist-packages (from matplotlib->QSub==0.1) (23.2)\n",
            "Requirement already satisfied: pillow>=6.2.0 in /usr/local/lib/python3.10/dist-packages (from matplotlib->QSub==0.1) (9.4.0)\n",
            "Requirement already satisfied: pyparsing>=2.3.1 in /usr/local/lib/python3.10/dist-packages (from matplotlib->QSub==0.1) (3.1.1)\n",
            "Requirement already satisfied: python-dateutil>=2.7 in /usr/local/lib/python3.10/dist-packages (from matplotlib->QSub==0.1) (2.8.2)\n",
            "Requirement already satisfied: pytz>=2020.1 in /usr/local/lib/python3.10/dist-packages (from pandas->QSub==0.1) (2023.3.post1)\n",
            "Requirement already satisfied: iniconfig in /usr/local/lib/python3.10/dist-packages (from pytest->QSub==0.1) (2.0.0)\n",
            "Requirement already satisfied: pluggy<2.0,>=0.12 in /usr/local/lib/python3.10/dist-packages (from pytest->QSub==0.1) (1.3.0)\n",
            "Requirement already satisfied: exceptiongroup>=1.0.0rc8 in /usr/local/lib/python3.10/dist-packages (from pytest->QSub==0.1) (1.1.3)\n",
            "Requirement already satisfied: tomli>=1.0.0 in /usr/local/lib/python3.10/dist-packages (from pytest->QSub==0.1) (2.0.1)\n",
            "Collecting Levenshtein==0.23.0 (from python-Levenshtein->QSub==0.1)\n",
            "  Downloading Levenshtein-0.23.0-cp310-cp310-manylinux_2_17_x86_64.manylinux2014_x86_64.whl (169 kB)\n",
            "\u001b[2K     \u001b[90m━━━━━━━━━━━━━━━━━━━━━━━━━━━━━━━━━━━━━━━━\u001b[0m \u001b[32m169.4/169.4 kB\u001b[0m \u001b[31m3.8 MB/s\u001b[0m eta \u001b[36m0:00:00\u001b[0m\n",
            "\u001b[?25hCollecting rapidfuzz<4.0.0,>=3.1.0 (from Levenshtein==0.23.0->python-Levenshtein->QSub==0.1)\n",
            "  Downloading rapidfuzz-3.5.2-cp310-cp310-manylinux_2_17_x86_64.manylinux2014_x86_64.whl (3.3 MB)\n",
            "\u001b[2K     \u001b[90m━━━━━━━━━━━━━━━━━━━━━━━━━━━━━━━━━━━━━━━━\u001b[0m \u001b[32m3.3/3.3 MB\u001b[0m \u001b[31m10.0 MB/s\u001b[0m eta \u001b[36m0:00:00\u001b[0m\n",
            "\u001b[?25hRequirement already satisfied: charset-normalizer<4,>=2 in /usr/local/lib/python3.10/dist-packages (from requests->QSub==0.1) (3.3.2)\n",
            "Requirement already satisfied: idna<4,>=2.5 in /usr/local/lib/python3.10/dist-packages (from requests->QSub==0.1) (3.4)\n",
            "Requirement already satisfied: urllib3<3,>=1.21.1 in /usr/local/lib/python3.10/dist-packages (from requests->QSub==0.1) (2.0.7)\n",
            "Requirement already satisfied: certifi>=2017.4.17 in /usr/local/lib/python3.10/dist-packages (from requests->QSub==0.1) (2023.7.22)\n",
            "Requirement already satisfied: filelock in /usr/local/lib/python3.10/dist-packages (from transformers->QSub==0.1) (3.13.1)\n",
            "Requirement already satisfied: huggingface-hub<1.0,>=0.16.4 in /usr/local/lib/python3.10/dist-packages (from transformers->QSub==0.1) (0.19.4)\n",
            "Requirement already satisfied: pyyaml>=5.1 in /usr/local/lib/python3.10/dist-packages (from transformers->QSub==0.1) (6.0.1)\n",
            "Requirement already satisfied: regex!=2019.12.17 in /usr/local/lib/python3.10/dist-packages (from transformers->QSub==0.1) (2023.6.3)\n",
            "Requirement already satisfied: tokenizers<0.19,>=0.14 in /usr/local/lib/python3.10/dist-packages (from transformers->QSub==0.1) (0.15.0)\n",
            "Requirement already satisfied: safetensors>=0.3.1 in /usr/local/lib/python3.10/dist-packages (from transformers->QSub==0.1) (0.4.0)\n",
            "Requirement already satisfied: fsspec>=2023.5.0 in /usr/local/lib/python3.10/dist-packages (from huggingface-hub<1.0,>=0.16.4->transformers->QSub==0.1) (2023.6.0)\n",
            "Requirement already satisfied: typing-extensions>=3.7.4.3 in /usr/local/lib/python3.10/dist-packages (from huggingface-hub<1.0,>=0.16.4->transformers->QSub==0.1) (4.5.0)\n",
            "Requirement already satisfied: six>=1.5 in /usr/local/lib/python3.10/dist-packages (from python-dateutil>=2.7->matplotlib->QSub==0.1) (1.16.0)\n",
            "Building wheels for collected packages: QSub\n",
            "  Building wheel for QSub (setup.py) ... \u001b[?25l\u001b[?25hdone\n",
            "  Created wheel for QSub: filename=QSub-0.1-py3-none-any.whl size=8105 sha256=98c74daa67b57cdb2de7f0eb118fb854c3ddc3af4993b27974a8d0965dfe93ab\n",
            "  Stored in directory: /tmp/pip-ephem-wheel-cache-j8s06oix/wheels/cd/2b/6e/ee1f8ffde451ff7345783973194d90055151c5af6d6ce70238\n",
            "Successfully built QSub\n",
            "Installing collected packages: fuzzywuzzy, rapidfuzz, Levenshtein, python-Levenshtein, QSub\n",
            "Successfully installed Levenshtein-0.23.0 QSub-0.1 fuzzywuzzy-0.18.0 python-Levenshtein-0.23.0 rapidfuzz-3.5.2\n"
          ]
        }
      ]
    },
    {
      "cell_type": "markdown",
      "source": [
        "## Carga de datos para el ejemplo de uso\n",
        "\n",
        "Una vez instalada la librería `QSub` tendremos que descargar los datos necesarios para el ejemplo de uso. Estos datos están alojados en una carpeta de recursos en la propia librería, por lo que podremos utilizarlos directamente. Hacemos uso de un dataset ya definido para los cosenos del *supertérmino* y para los valores de *diversidad semántica* de los términos del corpus ya que calcularlos para todo el corpus lingüístico que vamos a utilizar sería muy costoso. Estos recursos tan solo son aplicables al corpus lingüístico de ejemplo en este cuaderno."
      ],
      "metadata": {
        "id": "ZB9ZnY3hdifb"
      }
    },
    {
      "cell_type": "code",
      "source": [
        "import QSub\n",
        "import pkg_resources\n",
        "import pandas as pd\n",
        "import numpy as np\n",
        "\n",
        "test_superterm_cosines_path = pkg_resources.resource_filename(\"QSub\", \"./../resources/superterm_cosines.csv\")\n",
        "test_superterm_cosines = pd.read_csv(test_superterm_cosines_path)\n",
        "test_superterm_cosines = test_superterm_cosines.drop(test_superterm_cosines.columns[0], axis=1)\n",
        "test_superterm_cosines = np.array(test_superterm_cosines)\n",
        "\n",
        "test_h_df_path = pkg_resources.resource_filename(\"QSub\", \"./../resources/sp_vocab_semantic_diversity.csv\")\n",
        "test_h_df = pd.read_csv(test_h_df_path)\n",
        "test_h_df = test_h_df.drop(test_h_df.columns[0], axis=1)"
      ],
      "metadata": {
        "id": "cX5KDu_6d0Y6"
      },
      "execution_count": 3,
      "outputs": []
    },
    {
      "cell_type": "markdown",
      "source": [
        "## Extracción del *contorno conceptual* del término \"palestino\".\n",
        "\n",
        "En el siguiente ejemplo utilizaremos el término \"palestino\" para definir su contorno conceptual en el espacio semántico LSA.\n",
        "\n",
        "**Nota:** Este espacio semántico ya está estimado y accedemos al mismo a través de `Gallito API`, una API con licencia, por lo que la `API_KEY` quedará borrada en el cuaderno de ejemplo.\n",
        "\n",
        "Comenzamos importando las funciones necesarias del módulo `contours`:"
      ],
      "metadata": {
        "id": "UFS32hCEeUJf"
      }
    },
    {
      "cell_type": "code",
      "source": [
        "from QSub.contours import deserved_neighbors, gallito_neighbors_matrix, word_vector, word_cosine_similarity, neighbors_similarity"
      ],
      "metadata": {
        "id": "Vi09SzNQfH7L"
      },
      "execution_count": 4,
      "outputs": []
    },
    {
      "cell_type": "markdown",
      "source": [
        "La función `gallito_neighbors_matrix` nos permite extraer los vectores de los `n` términos más similares al término objetivo mediante la API de Gallito. Estos vectores de los vecinos semánticos conformarán el contorno de la palabra objetivo, sin embargo aún no sabemos cuántos merece nuestra palabra de ejemplo, por lo que comenzamos con un total de 300 vecinos, y utilizaremos una serie de funciones posteriormente para tomar la decisión."
      ],
      "metadata": {
        "id": "9k0777defKiI"
      }
    },
    {
      "cell_type": "code",
      "source": [
        "palestino_neighbors = gallito_neighbors_matrix(\"palestino\", \"API_KEY\", \"quantumlikespace_spanish\", neighbors = 300)"
      ],
      "metadata": {
        "colab": {
          "base_uri": "https://localhost:8080/"
        },
        "id": "27fLXkFUfK9K",
        "outputId": "df79e0e7-fe1b-4f5b-f779-ce971c034b24"
      },
      "execution_count": 5,
      "outputs": [
        {
          "output_type": "stream",
          "name": "stderr",
          "text": [
            "Obteniendo vectores: 100%|██████████| 300/300 [00:16<00:00, 17.86it/s]\n"
          ]
        }
      ]
    },
    {
      "cell_type": "markdown",
      "source": [
        "Una vez definido el contorno tentativo, obtendremos el vector del término objetivo mediante la función `word_vector`, y su vector de similitudes ordenado de mayor a menor con la función `neighbors_similarity`. Estos elementos serán imprescindibles para tomar la decisión sobre el número de vecinos semánticos que merece el contorno."
      ],
      "metadata": {
        "id": "MEopZZyHf1Ww"
      }
    },
    {
      "cell_type": "code",
      "source": [
        "palestino_vector = word_vector(\"palestino\", \"API_KEY\", \"quantumlikespace_spanish\")\n",
        "palestino_cosines = neighbors_similarity(palestino_vector, palestino_neighbors)"
      ],
      "metadata": {
        "id": "QckucfAaf-KL"
      },
      "execution_count": 6,
      "outputs": []
    },
    {
      "cell_type": "markdown",
      "source": [
        "Por último, la función `deserved_neighbors` nos informa de la cantidad de vecinos semánticos que merece el contorno de nuestro término objetivo. Esta se basa en el método desarrollado por Martínez-Mingo et al. (2023).\n",
        "\n",
        "**Nota:** Al estar el documento de valores en *diversidad semántica* lematizado, es común que no encontremos el término deseado. Por esta razón se ha implementado un sistema de búsqueda por la distancia de Levenshtein, por lo que siempre se encontrará un término similar, devolviéndose dicho término al finalizar la función."
      ],
      "metadata": {
        "id": "I0m5HHoKglMd"
      }
    },
    {
      "cell_type": "code",
      "source": [
        "palestino_deserved = deserved_neighbors(\"palestino\", test_h_df, test_superterm_cosines, palestino_cosines[0])"
      ],
      "metadata": {
        "colab": {
          "base_uri": "https://localhost:8080/",
          "height": 564
        },
        "id": "0902sQs7gllj",
        "outputId": "c276594f-67af-487a-94c1-b77775369ca1"
      },
      "execution_count": 7,
      "outputs": [
        {
          "output_type": "display_data",
          "data": {
            "text/plain": [
              "<Figure size 1000x600 with 1 Axes>"
            ],
            "image/png": "[encoded data removed]"
          },
          "metadata": {}
        }
      ]
    },
    {
      "cell_type": "markdown",
      "source": [
        "Si imprimimos el resultado de la función anterior, nos dará el número de vecinos semánticos merecidos para la palabra objetivo:"
      ],
      "metadata": {
        "id": "6g__99w9jSNr"
      }
    },
    {
      "cell_type": "code",
      "source": [
        "print(palestino_deserved)"
      ],
      "metadata": {
        "colab": {
          "base_uri": "https://localhost:8080/"
        },
        "id": "5uZBHqqTjatS",
        "outputId": "74cf1ea3-4f3b-4ab4-88ac-daab440756a6"
      },
      "execution_count": 8,
      "outputs": [
        {
          "output_type": "stream",
          "name": "stdout",
          "text": [
            "101\n"
          ]
        }
      ]
    },
    {
      "cell_type": "markdown",
      "source": [
        "Con esta información podremos estimar el contorno de nuestra palabra objetivo utilizando de nuevo la función `gallito_neighbors_matrix`:"
      ],
      "metadata": {
        "id": "iAh4nCzbjfM8"
      }
    },
    {
      "cell_type": "code",
      "source": [
        "palestino_contour = gallito_neighbors_matrix(\"palestino\", \"API_KEY\", \"quantumlikespace_spanish\", neighbors = palestino_deserved)"
      ],
      "metadata": {
        "colab": {
          "base_uri": "https://localhost:8080/"
        },
        "id": "AWS6_u3Ujnfm",
        "outputId": "2d936e06-da7c-4234-83f6-9a2d78efd099"
      },
      "execution_count": 9,
      "outputs": [
        {
          "output_type": "stream",
          "name": "stderr",
          "text": [
            "Obteniendo vectores: 100%|██████████| 101/101 [00:05<00:00, 17.62it/s]\n"
          ]
        }
      ]
    },
    {
      "cell_type": "markdown",
      "source": [
        "Ahora, el objeto `palestino_contour` dispone de los 101 vecinos semánticos del termino objetivo, y de sus vectores de representación en el espacio semántico LSA. Este contorno conceptual nos servirá más adelante para generar el subespacio del concepto \"palestino\"."
      ],
      "metadata": {
        "id": "F9bmdPUEkV-D"
      }
    },
    {
      "cell_type": "code",
      "source": [
        "print(palestino_contour[\"neighbors\"][:10])\n",
        "print(palestino_contour[\"neighbors_vec\"][:10])"
      ],
      "metadata": {
        "colab": {
          "base_uri": "https://localhost:8080/"
        },
        "id": "XMhSWH0bkFRC",
        "outputId": "195d4846-94c3-41ae-a442-7cb1bb453813"
      },
      "execution_count": 15,
      "outputs": [
        {
          "output_type": "stream",
          "name": "stdout",
          "text": [
            "['palestino', 'cisjordania', 'israelí', 'israel', 'gaza', 'jerusalén', 'estado_de_israel', 'hamás', 'franja_de_gaza', 'autoridad_palestina']\n",
            "[[ 0.45480892  0.23688493  0.05063172 ...  0.10010288  0.11124404\n",
            "  -0.19327077]\n",
            " [ 0.08652659  0.06877993 -0.00120964 ...  0.02465505  0.01612562\n",
            "  -0.03701894]\n",
            " [ 0.55814209  0.34911323  0.02071892 ...  0.03455193  0.02993942\n",
            "  -0.31359389]\n",
            " ...\n",
            " [ 0.07885594  0.09003437  0.01752978 ...  0.00494079  0.01391079\n",
            "   0.00780887]\n",
            " [ 0.04867911  0.03985005  0.00204198 ...  0.01272901  0.00872713\n",
            "  -0.0111611 ]\n",
            " [ 0.03963619  0.05076532  0.00706232 ... -0.00578314  0.00357035\n",
            "  -0.0139861 ]]\n"
          ]
        }
      ]
    }
  ]
}