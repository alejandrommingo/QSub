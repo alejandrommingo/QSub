{
  "nbformat": 4,
  "nbformat_minor": 0,
  "metadata": {
    "colab": {
      "provenance": []
    },
    "kernelspec": {
      "name": "python3",
      "display_name": "Python 3"
    },
    "language_info": {
      "name": "python"
    }
  },
  "cells": [
    {
      "cell_type": "markdown",
      "source": [
        "# Use Example QSub: How to Create a Conceptual Contours using Gallito API\n",
        "\n",
        "This is the first example of using the `QSub` library. In this initial notebook, we will see how to define a *conceptual outline* from an LSA semantic space taking the semantic vectors from Gallito API.\n",
        "\n",
        "## Import `QSub` and Install Dependencies\n",
        "\n",
        "First, we must import the library and install its dependencies:"
      ],
      "metadata": {
        "id": "HQmDHtGZc9uG"
      }
    },
    {
      "cell_type": "code",
      "source": [
        "!git clone https://github.com/alejandrommingo/QSub.git"
      ],
      "metadata": {
        "colab": {
          "base_uri": "https://localhost:8080/"
        },
        "id": "6SjPvrbRdbJ1",
        "outputId": "891463a7-7052-49fb-e15e-7eae95758c85"
      },
      "execution_count": 1,
      "outputs": [
        {
          "output_type": "stream",
          "name": "stdout",
          "text": [
            "Cloning into 'QSub'...\n",
            "remote: Enumerating objects: 158, done.\u001b[K\n",
            "remote: Counting objects: 100% (158/158), done.\u001b[K\n",
            "remote: Compressing objects: 100% (104/104), done.\u001b[K\n",
            "remote: Total 158 (delta 78), reused 122 (delta 49), pack-reused 0\u001b[K\n",
            "Receiving objects: 100% (158/158), 1013.76 KiB | 12.51 MiB/s, done.\n",
            "Resolving deltas: 100% (78/78), done.\n"
          ]
        }
      ]
    },
    {
      "cell_type": "code",
      "source": [
        "%cd QSub\n",
        "!pip install ."
      ],
      "metadata": {
        "colab": {
          "base_uri": "https://localhost:8080/"
        },
        "id": "Nu3Nd_AddcR3",
        "outputId": "acd2ffa2-9cc0-4c7c-8d4d-beef98b6b9d9"
      },
      "execution_count": 2,
      "outputs": [
        {
          "output_type": "stream",
          "name": "stdout",
          "text": [
            "/content/QSub\n",
            "Processing /content/QSub\n",
            "  Preparing metadata (setup.py) ... \u001b[?25l\u001b[?25hdone\n",
            "Requirement already satisfied: numpy in /usr/local/lib/python3.10/dist-packages (from QSub==0.1) (1.23.5)\n",
            "Requirement already satisfied: pandas in /usr/local/lib/python3.10/dist-packages (from QSub==0.1) (1.5.3)\n",
            "Requirement already satisfied: requests in /usr/local/lib/python3.10/dist-packages (from QSub==0.1) (2.31.0)\n",
            "Requirement already satisfied: matplotlib in /usr/local/lib/python3.10/dist-packages (from QSub==0.1) (3.7.1)\n",
            "Collecting fuzzywuzzy (from QSub==0.1)\n",
            "  Downloading fuzzywuzzy-0.18.0-py2.py3-none-any.whl (18 kB)\n",
            "Requirement already satisfied: transformers in /usr/local/lib/python3.10/dist-packages (from QSub==0.1) (4.35.2)\n",
            "Requirement already satisfied: gensim in /usr/local/lib/python3.10/dist-packages (from QSub==0.1) (4.3.2)\n",
            "Requirement already satisfied: pytest in /usr/local/lib/python3.10/dist-packages (from QSub==0.1) (7.4.3)\n",
            "Requirement already satisfied: tqdm in /usr/local/lib/python3.10/dist-packages (from QSub==0.1) (4.66.1)\n",
            "Collecting python-Levenshtein (from QSub==0.1)\n",
            "  Downloading python_Levenshtein-0.23.0-py3-none-any.whl (9.4 kB)\n",
            "Requirement already satisfied: scipy>=1.7.0 in /usr/local/lib/python3.10/dist-packages (from gensim->QSub==0.1) (1.11.3)\n",
            "Requirement already satisfied: smart-open>=1.8.1 in /usr/local/lib/python3.10/dist-packages (from gensim->QSub==0.1) (6.4.0)\n",
            "Requirement already satisfied: contourpy>=1.0.1 in /usr/local/lib/python3.10/dist-packages (from matplotlib->QSub==0.1) (1.2.0)\n",
            "Requirement already satisfied: cycler>=0.10 in /usr/local/lib/python3.10/dist-packages (from matplotlib->QSub==0.1) (0.12.1)\n",
            "Requirement already satisfied: fonttools>=4.22.0 in /usr/local/lib/python3.10/dist-packages (from matplotlib->QSub==0.1) (4.44.3)\n",
            "Requirement already satisfied: kiwisolver>=1.0.1 in /usr/local/lib/python3.10/dist-packages (from matplotlib->QSub==0.1) (1.4.5)\n",
            "Requirement already satisfied: packaging>=20.0 in /usr/local/lib/python3.10/dist-packages (from matplotlib->QSub==0.1) (23.2)\n",
            "Requirement already satisfied: pillow>=6.2.0 in /usr/local/lib/python3.10/dist-packages (from matplotlib->QSub==0.1) (9.4.0)\n",
            "Requirement already satisfied: pyparsing>=2.3.1 in /usr/local/lib/python3.10/dist-packages (from matplotlib->QSub==0.1) (3.1.1)\n",
            "Requirement already satisfied: python-dateutil>=2.7 in /usr/local/lib/python3.10/dist-packages (from matplotlib->QSub==0.1) (2.8.2)\n",
            "Requirement already satisfied: pytz>=2020.1 in /usr/local/lib/python3.10/dist-packages (from pandas->QSub==0.1) (2023.3.post1)\n",
            "Requirement already satisfied: iniconfig in /usr/local/lib/python3.10/dist-packages (from pytest->QSub==0.1) (2.0.0)\n",
            "Requirement already satisfied: pluggy<2.0,>=0.12 in /usr/local/lib/python3.10/dist-packages (from pytest->QSub==0.1) (1.3.0)\n",
            "Requirement already satisfied: exceptiongroup>=1.0.0rc8 in /usr/local/lib/python3.10/dist-packages (from pytest->QSub==0.1) (1.1.3)\n",
            "Requirement already satisfied: tomli>=1.0.0 in /usr/local/lib/python3.10/dist-packages (from pytest->QSub==0.1) (2.0.1)\n",
            "Collecting Levenshtein==0.23.0 (from python-Levenshtein->QSub==0.1)\n",
            "  Downloading Levenshtein-0.23.0-cp310-cp310-manylinux_2_17_x86_64.manylinux2014_x86_64.whl (169 kB)\n",
            "\u001b[2K     \u001b[90m━━━━━━━━━━━━━━━━━━━━━━━━━━━━━━━━━━━━━━━━\u001b[0m \u001b[32m169.4/169.4 kB\u001b[0m \u001b[31m5.1 MB/s\u001b[0m eta \u001b[36m0:00:00\u001b[0m\n",
            "\u001b[?25hCollecting rapidfuzz<4.0.0,>=3.1.0 (from Levenshtein==0.23.0->python-Levenshtein->QSub==0.1)\n",
            "  Downloading rapidfuzz-3.5.2-cp310-cp310-manylinux_2_17_x86_64.manylinux2014_x86_64.whl (3.3 MB)\n",
            "\u001b[2K     \u001b[90m━━━━━━━━━━━━━━━━━━━━━━━━━━━━━━━━━━━━━━━━\u001b[0m \u001b[32m3.3/3.3 MB\u001b[0m \u001b[31m10.4 MB/s\u001b[0m eta \u001b[36m0:00:00\u001b[0m\n",
            "\u001b[?25hRequirement already satisfied: charset-normalizer<4,>=2 in /usr/local/lib/python3.10/dist-packages (from requests->QSub==0.1) (3.3.2)\n",
            "Requirement already satisfied: idna<4,>=2.5 in /usr/local/lib/python3.10/dist-packages (from requests->QSub==0.1) (3.4)\n",
            "Requirement already satisfied: urllib3<3,>=1.21.1 in /usr/local/lib/python3.10/dist-packages (from requests->QSub==0.1) (2.0.7)\n",
            "Requirement already satisfied: certifi>=2017.4.17 in /usr/local/lib/python3.10/dist-packages (from requests->QSub==0.1) (2023.7.22)\n",
            "Requirement already satisfied: filelock in /usr/local/lib/python3.10/dist-packages (from transformers->QSub==0.1) (3.13.1)\n",
            "Requirement already satisfied: huggingface-hub<1.0,>=0.16.4 in /usr/local/lib/python3.10/dist-packages (from transformers->QSub==0.1) (0.19.4)\n",
            "Requirement already satisfied: pyyaml>=5.1 in /usr/local/lib/python3.10/dist-packages (from transformers->QSub==0.1) (6.0.1)\n",
            "Requirement already satisfied: regex!=2019.12.17 in /usr/local/lib/python3.10/dist-packages (from transformers->QSub==0.1) (2023.6.3)\n",
            "Requirement already satisfied: tokenizers<0.19,>=0.14 in /usr/local/lib/python3.10/dist-packages (from transformers->QSub==0.1) (0.15.0)\n",
            "Requirement already satisfied: safetensors>=0.3.1 in /usr/local/lib/python3.10/dist-packages (from transformers->QSub==0.1) (0.4.0)\n",
            "Requirement already satisfied: fsspec>=2023.5.0 in /usr/local/lib/python3.10/dist-packages (from huggingface-hub<1.0,>=0.16.4->transformers->QSub==0.1) (2023.6.0)\n",
            "Requirement already satisfied: typing-extensions>=3.7.4.3 in /usr/local/lib/python3.10/dist-packages (from huggingface-hub<1.0,>=0.16.4->transformers->QSub==0.1) (4.5.0)\n",
            "Requirement already satisfied: six>=1.5 in /usr/local/lib/python3.10/dist-packages (from python-dateutil>=2.7->matplotlib->QSub==0.1) (1.16.0)\n",
            "Building wheels for collected packages: QSub\n",
            "  Building wheel for QSub (setup.py) ... \u001b[?25l\u001b[?25hdone\n",
            "  Created wheel for QSub: filename=QSub-0.1-py3-none-any.whl size=9468 sha256=f70097911440abc204a60954f251140d9e82be8ce0ec3fad51258ddd7e7b9c37\n",
            "  Stored in directory: /tmp/pip-ephem-wheel-cache-5n7wnqy8/wheels/cd/2b/6e/ee1f8ffde451ff7345783973194d90055151c5af6d6ce70238\n",
            "Successfully built QSub\n",
            "Installing collected packages: fuzzywuzzy, rapidfuzz, Levenshtein, python-Levenshtein, QSub\n",
            "Successfully installed Levenshtein-0.23.0 QSub-0.1 fuzzywuzzy-0.18.0 python-Levenshtein-0.23.0 rapidfuzz-3.5.2\n"
          ]
        }
      ]
    },
    {
      "cell_type": "markdown",
      "source": [
        "## Data Loading for the Usage Example\n",
        "\n",
        "Once the `QSub` library is installed, we will need to download the necessary data for the usage example. These data are hosted in a resource folder within the library itself, so we can use them directly. We make use of a predefined dataset for the cosines of the *superterm* and for the values of *semantic diversity* of the terms in the corpus, as calculating them for the entire linguistic corpus we are going to use would be very costly. These resources are only applicable to the example linguistic corpus in this notebook (`quantumlikespace_spanish`)."
      ],
      "metadata": {
        "id": "ZB9ZnY3hdifb"
      }
    },
    {
      "cell_type": "code",
      "source": [
        "import QSub\n",
        "import pkg_resources\n",
        "import pandas as pd\n",
        "import numpy as np\n",
        "\n",
        "test_superterm_cosines_path = pkg_resources.resource_filename(\"QSub\", \"./../resources/superterm_cosines.csv\")\n",
        "test_superterm_cosines = pd.read_csv(test_superterm_cosines_path)\n",
        "test_superterm_cosines = test_superterm_cosines.drop(test_superterm_cosines.columns[0], axis=1)\n",
        "test_superterm_cosines = np.array(test_superterm_cosines)\n",
        "\n",
        "test_h_df_path = pkg_resources.resource_filename(\"QSub\", \"./../resources/sp_vocab_semantic_diversity.csv\")\n",
        "test_h_df = pd.read_csv(test_h_df_path)\n",
        "test_h_df = test_h_df.drop(test_h_df.columns[0], axis=1)"
      ],
      "metadata": {
        "id": "cX5KDu_6d0Y6"
      },
      "execution_count": 3,
      "outputs": []
    },
    {
      "cell_type": "markdown",
      "source": [
        "## Extraction of the *Conceptual Contour* of the Term \"Palestinian\".\n",
        "\n",
        "In the following example, we will use the term \"Palestinian\" to define its conceptual outline in the LSA semantic space.\n",
        "\n",
        "**Note:** This semantic space is already estimated, and we access it through `Gallito API`, a licensed API, so the `API_KEY` will be omitted in the example notebook.\n",
        "\n",
        "We begin by importing the necessary functions from the `contours` and `semantic_spaces` modules:\n"
      ],
      "metadata": {
        "id": "UFS32hCEeUJf"
      }
    },
    {
      "cell_type": "code",
      "source": [
        "from QSub.contours import deserved_neighbors, get_neighbors_matrix_gallito, neighbors_similarity\n",
        "from QSub.semantic_spaces import get_word_vector_gallito, word_cosine_similarity"
      ],
      "metadata": {
        "id": "Vi09SzNQfH7L"
      },
      "execution_count": 5,
      "outputs": []
    },
    {
      "cell_type": "markdown",
      "source": [
        "The function `get_neighbors_matrix_gallito` allows us to extract the vectors of the `n` most similar terms to the target term using the Gallito API. These vectors of semantic neighbors will form the outline of the target word. However, we still do not know how many neighbors our example word deserves, so we start with a total of 300 neighbors and will use a series of functions later to make the decision."
      ],
      "metadata": {
        "id": "9k0777defKiI"
      }
    },
    {
      "cell_type": "code",
      "source": [
        "palestino_neighbors = get_neighbors_matrix_gallito(\"palestino\", \"API_KEY\", \"quantumlikespace_spanish\", neighbors = 300)"
      ],
      "metadata": {
        "colab": {
          "base_uri": "https://localhost:8080/"
        },
        "id": "27fLXkFUfK9K",
        "outputId": "0d9f54be-900b-4a73-f642-86d7893a93f7"
      },
      "execution_count": 7,
      "outputs": [
        {
          "output_type": "stream",
          "name": "stderr",
          "text": [
            "Obteniendo vectores: 100%|██████████| 300/300 [00:16<00:00, 18.49it/s]\n"
          ]
        }
      ]
    },
    {
      "cell_type": "markdown",
      "source": [
        "Once the tentative contour is defined, we will obtain the vector of the target term using the `get_word_vector_gallito` function, and its vector of similarities ordered from highest to lowest with the `neighbors_similarity` function. These elements will be essential for making a decision about the number of semantic neighbors that the outline deserves."
      ],
      "metadata": {
        "id": "MEopZZyHf1Ww"
      }
    },
    {
      "cell_type": "code",
      "source": [
        "palestino_vector = get_word_vector_gallito(\"palestino\", \"API_KEY\", \"quantumlikespace_spanish\")\n",
        "palestino_cosines = neighbors_similarity(palestino_vector, palestino_neighbors)"
      ],
      "metadata": {
        "id": "QckucfAaf-KL"
      },
      "execution_count": 8,
      "outputs": []
    },
    {
      "cell_type": "markdown",
      "source": [
        "Finally, the function `deserved_neighbors` informs us of the number of semantic neighbors that the outline of our target term deserves. This is based on the method developed by Martínez-Mingo et al. (2023).\n",
        "\n",
        "**Note:** As the document of values in *semantic diversity* is lemmatized, it is common not to find the desired term. For this reason, a search system based on Levenshtein distance has been implemented, so a similar term will always be found, with the said term being returned at the end of the function.\n",
        "\n",
        "Reference: Martínez-Mingo, A., Jorge-Botana, G., Martinez-Huertas, J. Á., & Albacete, R. O. (2023). Quantum projections on conceptual subspaces. Cognitive Systems Research, 82, 101154."
      ],
      "metadata": {
        "id": "I0m5HHoKglMd"
      }
    },
    {
      "cell_type": "code",
      "source": [
        "palestino_deserved = deserved_neighbors(\"palestino\", test_h_df, test_superterm_cosines, np.array(list(palestino_cosines.values())))"
      ],
      "metadata": {
        "colab": {
          "base_uri": "https://localhost:8080/",
          "height": 564
        },
        "id": "0902sQs7gllj",
        "outputId": "9d50e6af-c520-4a48-dfa5-51f90c8e5bf8"
      },
      "execution_count": 10,
      "outputs": [
        {
          "output_type": "display_data",
          "data": {
            "text/plain": [
              "<Figure size 1000x600 with 1 Axes>"
            ],
            "image/png": "[encoded data removed]"
          },
          "metadata": {}
        }
      ]
    },
    {
      "cell_type": "markdown",
      "source": [
        "If we print the result of the previous function, it will give us the number of deserved semantic neighbors for the target word:"
      ],
      "metadata": {
        "id": "6g__99w9jSNr"
      }
    },
    {
      "cell_type": "code",
      "source": [
        "print(palestino_deserved)"
      ],
      "metadata": {
        "colab": {
          "base_uri": "https://localhost:8080/"
        },
        "id": "5uZBHqqTjatS",
        "outputId": "7cf15199-e076-4809-c5db-33b69af419a2"
      },
      "execution_count": 12,
      "outputs": [
        {
          "output_type": "stream",
          "name": "stdout",
          "text": [
            "101\n"
          ]
        }
      ]
    },
    {
      "cell_type": "markdown",
      "source": [
        "With this information, we can estimate the outline of our target word by using the function `get_neighbors_matrix_gallito` again:\n"
      ],
      "metadata": {
        "id": "iAh4nCzbjfM8"
      }
    },
    {
      "cell_type": "code",
      "source": [
        "palestino_contour = get_neighbors_matrix_gallito(\"palestino\", \"API_KEY\", \"quantumlikespace_spanish\", neighbors = palestino_deserved)"
      ],
      "metadata": {
        "colab": {
          "base_uri": "https://localhost:8080/"
        },
        "id": "AWS6_u3Ujnfm",
        "outputId": "832ad9ab-b466-4fda-874f-6b7fde8d7ced"
      },
      "execution_count": 14,
      "outputs": [
        {
          "output_type": "stream",
          "name": "stderr",
          "text": [
            "Obteniendo vectores: 100%|██████████| 101/101 [00:05<00:00, 18.50it/s]\n"
          ]
        }
      ]
    },
    {
      "cell_type": "markdown",
      "source": [
        "Now, the object `palestino_contour` has the 101 semantic neighbors of the target term, and their representation vectors in the LSA semantic space. This conceptual outline will be useful later to generate the subspace of the concept \"Palestinian.\""
      ],
      "metadata": {
        "id": "F9bmdPUEkV-D"
      }
    },
    {
      "cell_type": "code",
      "source": [
        "palestino_contour.keys()"
      ],
      "metadata": {
        "colab": {
          "base_uri": "https://localhost:8080/"
        },
        "id": "XMhSWH0bkFRC",
        "outputId": "0afee7b7-0e47-4f28-c375-4492e8b57ef7"
      },
      "execution_count": 16,
      "outputs": [
        {
          "output_type": "execute_result",
          "data": {
            "text/plain": [
              "dict_keys(['palestino', 'cisjordania', 'israelí', 'israel', 'gaza', 'jerusalén', 'estado_de_israel', 'hamás', 'franja_de_gaza', 'autoridad_palestina', 'hebreo', 'jerusalén_este', 'ramala', 'yihad_islámica', 'tel_aviv', 'sionista', 'altos_del_golán', 'ciudad_santa', 'gazatíes', 'haaretz', 'benjamín_netanyahu', 'fatah', 'acuerdos_de_oslo', 'árabes', 'golán', 'mahmud_abbas', 'netanyahu', 'benjamin_netanyahu', 'hezbolá', 'abbas', 'jordania', 'unrwa', 'partición', 'libanés', 'embajada_de_ee', 'árabe', 'líbano', 'chiíes', 'gazatí', 'olp', 'oriente_próximo', 'proyectil', 'lieberman', 'galilea', 'francotirador', 'chií', 'judío', 'egipto', 'liberación_de_palestina', 'jordán', 'jordana', 'judaísmo', 'haifa', 'suníes', 'jordano', 'castrense', 'beirut', 'iraní', 'iraquí', 'antiaéreo', 'likud', 'bélica', 'milicia', 'islam', 'siria', 'mosad', 'tierra_santa', 'observatorio_sirio_para_los_derechos_humanos', 'guardia_revolucionaria', 'damasco', 'franja', 'propalar', 'liga_árabe', 'irak', 'miliciano', 'bombardeo', 'filisteo', 'suní', 'sadam_husein', 'otomano', 'aéreos', 'palmira', 'ultraortodoxos', 'bashar_asad', 'irán', 'latakia', 'aviación', 'cohete', 'bagdad', 'kurdo', 'anatolia', 'éufrates', 'bachar_el_asad', 'islámico', 'canal_de_suez', 'asentamiento', 'ankara', 'insurrecto', 'afrin', 'homs', 'alepo'])"
            ]
          },
          "metadata": {},
          "execution_count": 16
        }
      ]
    }
  ]
}