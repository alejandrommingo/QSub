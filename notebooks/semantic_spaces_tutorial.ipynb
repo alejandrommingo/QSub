{
 "cells": [
  {
   "cell_type": "markdown",
   "metadata": {},
   "source": "# Tutorial del módulo `semantic_spaces`"
  },
  {
   "cell_type": "markdown",
   "metadata": {},
   "source": "En este cuaderno se presentan de forma didáctica las funciones disponibles en `QSub.semantic_spaces`.\nA través de ejemplos y visualizaciones aprenderás a obtener y manipular vectores semánticos basados en Gallito y BERT."
  },
  {
   "cell_type": "code",
   "metadata": {
    "tags": [
     "hide-input"
    ]
   },
   "source": "# Configuración de la clave de Gallito\n_api_part1 = \"code\"\n_api_part2 = \"_here\"\nGALLITO_API_KEY = _api_part1 + _api_part2",
   "outputs": [],
   "execution_count": null
  },
  {
   "cell_type": "code",
   "metadata": {},
   "source": "import QSub.semantic_spaces as spaces\nimport matplotlib.pyplot as plt\nfrom sklearn.decomposition import PCA",
   "outputs": [],
   "execution_count": null
  },
  {
   "cell_type": "markdown",
   "metadata": {},
   "source": "## `get_word_vector_gallito`\nDevuelve el vector de una palabra usando la API de Gallito. Es ideal para explorar espacios semánticos específicos."
  },
  {
   "cell_type": "code",
   "metadata": {},
   "source": "vector = spaces.get_word_vector_gallito(\"china\", GALLITO_API_KEY, \"quantumlikespace_spanish\")\nvector[:10]",
   "outputs": [],
   "execution_count": null
  },
  {
   "cell_type": "markdown",
   "metadata": {},
   "source": "## `get_lsa_corpus_gallito`\nCarga un conjunto de términos de un archivo y devuelve un diccionario con sus vectores."
  },
  {
   "cell_type": "code",
   "metadata": {},
   "source": "corpus = spaces.get_lsa_corpus_gallito(\"notebooks/files/concepts.txt\", GALLITO_API_KEY, \"quantumlikespace_spanish\")\nlist(corpus.keys())[:5]",
   "outputs": [],
   "execution_count": null
  },
  {
   "cell_type": "markdown",
   "metadata": {},
   "source": "### Visualización del corpus de Gallito\nRepresentamos algunos vectores usando PCA para observar su distribución."
  },
  {
   "cell_type": "code",
   "metadata": {},
   "source": "pca = PCA(n_components=2)\nwords = list(corpus.keys())[:10]\nX = pca.fit_transform([corpus[w] for w in words])\nplt.figure(figsize=(6,4))\nplt.scatter(X[:,0], X[:,1])\nfor i, w in enumerate(words):\n    plt.text(X[i,0], X[i,1], w)\nplt.title(\"Proyección PCA de vectores Gallito\")\nplt.show()",
   "outputs": [],
   "execution_count": null
  },
  {
   "cell_type": "markdown",
   "metadata": {},
   "source": "## `get_word_vector_bert`\nObtiene la representación BERT de una palabra. Permite elegir la capa del modelo."
  },
  {
   "cell_type": "code",
   "metadata": {},
   "source": "bert_vec = spaces.get_word_vector_bert(\"hello\")\nbert_vec.shape",
   "outputs": [],
   "execution_count": null
  },
  {
   "cell_type": "markdown",
   "metadata": {},
   "source": "## `get_bert_corpus`\nGenera un corpus con los vectores BERT de las palabras más frecuentes en un idioma."
  },
  {
   "cell_type": "code",
   "metadata": {},
   "source": "bert_corpus = spaces.get_bert_corpus(language=\"en\", n_words=5)\nbert_corpus",
   "outputs": [],
   "execution_count": null
  },
  {
   "cell_type": "markdown",
   "metadata": {},
   "source": "### Visualización del corpus BERT\nAl igual que con Gallito, proyectamos los vectores a 2D para analizarlos gráficamente."
  },
  {
   "cell_type": "code",
   "metadata": {},
   "source": "pca = PCA(n_components=2)\nwords_b = list(bert_corpus.keys())\nX_b = pca.fit_transform([bert_corpus[w] for w in words_b])\nplt.figure(figsize=(6,4))\nplt.scatter(X_b[:,0], X_b[:,1], color=\"orange\")\nfor i, w in enumerate(words_b):\n    plt.text(X_b[i,0], X_b[i,1], w)\nplt.title(\"Proyección PCA de vectores BERT\")\nplt.show()",
   "outputs": [],
   "execution_count": null
  },
  {
   "cell_type": "markdown",
   "metadata": {},
   "source": "## `word_cosine_similarity`\nCalcula la similitud coseno entre dos vectores, una medida habitual para comparar representaciones semánticas."
  },
  {
   "cell_type": "code",
   "metadata": {},
   "source": "w1 = bert_vec\nw2 = list(bert_corpus.values())[0]\nspaces.word_cosine_similarity(w1, w2)",
   "outputs": [],
   "execution_count": null
  }
 ],
 "metadata": {
  "kernelspec": {
   "display_name": "Python 3",
   "language": "python",
   "name": "python3"
  },
  "language_info": {
   "name": "python"
  }
 },
 "nbformat": 4,
 "nbformat_minor": 5
}
